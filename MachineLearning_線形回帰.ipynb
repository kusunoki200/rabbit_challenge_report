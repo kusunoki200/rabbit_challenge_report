{
 "cells": [
  {
   "cell_type": "markdown",
   "metadata": {},
   "source": [
    "### 線形回帰モデル"
   ]
  },
  {
   "cell_type": "markdown",
   "metadata": {},
   "source": [
    "- 回帰問題　\\\n",
    "機械学習の問題としては大きく「回帰」「分類」に分けられる。\\\n",
    "回帰問題は入力値（離散or連続値）から連続値を出力として予測する問題のこと。\\\n",
    "例）給料や家賃の予測など"
   ]
  },
  {
   "cell_type": "markdown",
   "metadata": {},
   "source": [
    "- 入力 \\\n",
    "入力は$m$次元のベクトルで表され、説明変数や特徴量と呼ばれる。\\\n",
    "例)家賃の予測の場合、部屋の広さや立地などそれぞれが特徴量となる。\n",
    "\n",
    "- 出力 \\\n",
    "予測する値、目的変数と呼ばれる。回帰モデルの場合スカラーとなる。\n",
    "\n",
    "$$\n",
    " \\boldsymbol{x} = (x_1, x_2, \\dots, x_m)^T \\in \\mathbb{R}^m \\\\\n",
    " y \\in \\mathbb{R}^1\n",
    "$$"
   ]
  },
  {
   "cell_type": "markdown",
   "metadata": {},
   "source": [
    "線形回帰モデルは、機械学習モデルの一つで教師あり学習に分類される。\n",
    "入力となる特徴量と重み（パラメータ）の線形結合を出力することで予測を行う。"
   ]
  },
  {
   "cell_type": "markdown",
   "metadata": {},
   "source": [
    "パラメータは\n",
    "$$\n",
    " \\boldsymbol{w} = (w_1, w_2, \\dots, w_m)^T \\in \\mathbb{R}^m\n",
    "$$\n",
    "であり、それぞれ成分が入力の成分の重みとなる。それらの線形結合は\n",
    "\n",
    "$$\n",
    " \\hat{y} = \\sum_{j=1}^{m} w_jx_j + w_0 = \\boldsymbol{w}^T \\boldsymbol{x} + w_0\n",
    "$$\n",
    "\n",
    "と書ける。この線形結合が予測値となり$\\hat{y}$で表す。正解データと区別して表記する。\\\n",
    "線形回帰問題ではこのパラメータ$\\boldsymbol{w}$を教師データより求めるのが問題となる。このときの$w_0$をバイアス項と呼ぶ。"
   ]
  },
  {
   "cell_type": "markdown",
   "metadata": {},
   "source": [
    "入力に$x_0=1$を加えることで、$w_0$もベクトル表記に加えて\n",
    "\n",
    "$$\n",
    " \\hat{y} = \\boldsymbol{w}^T \\boldsymbol{x}\n",
    "$$\n",
    "\n",
    "と書ける。"
   ]
  },
  {
   "cell_type": "markdown",
   "metadata": {},
   "source": [
    "#### 【モデルの表現】\n"
   ]
  },
  {
   "cell_type": "markdown",
   "metadata": {},
   "source": [
    "- 単回帰モデルの場合 \\\n",
    "説明変数が一つの線形回帰モデルを単回帰モデルと呼ぶ。\n",
    "この場合、特徴量は一つとなる。"
   ]
  },
  {
   "cell_type": "markdown",
   "metadata": {},
   "source": [
    "モデルの式は\n",
    "\n",
    "$$\n",
    " y = w_0 + w_1x_1 + \\epsilon\n",
    "$$\n",
    "\n",
    "となる。$w_0$はいわゆる切片、$w_1$は傾きとなる。$\\epsilon$は誤差。ここでの$y$は正解データ（教師データ）。教師データを使って、切片と傾きを誤差が小さくなるように決定するのが問題となる。"
   ]
  },
  {
   "cell_type": "markdown",
   "metadata": {},
   "source": [
    "教師データがn組($(x_1, y_1), (x_2, y_2), \\dots (x_n, y_n)$)あるとき、モデルの式よりn個の方程式が導出される。\n",
    "$$\n",
    " \\begin{eqnarray*}\n",
    " y_1 &= w_0 + w_1 x_1 \\\\ \n",
    " y_2 &= w_0 + w_1 x_2 \\\\ \n",
    " \\vdots \\\\\n",
    " y_n &= w_0 + w_1 x_n\n",
    " \\end{eqnarray*}\n",
    "$$"
   ]
  },
  {
   "cell_type": "markdown",
   "metadata": {},
   "source": [
    "これを行列で表記すると、\n",
    "$$\n",
    " \\left(\n",
    " \\begin{array}{c}\n",
    "  y_1 \\\\\n",
    "  y_2 \\\\\n",
    "  \\vdots \\\\\n",
    "  y_n\n",
    " \\end{array}\n",
    " \\right)\n",
    " =\n",
    "   \\left(\n",
    " \\begin{array}{cc}\n",
    "  1 & x_1 \\\\\n",
    "  1 & x_2 \\\\\n",
    "  \\vdots & \\\\\n",
    "  1 & x_n\n",
    " \\end{array}\n",
    " \\right)\n",
    "  \\left(\n",
    " \\begin{array}{c}\n",
    " w_0 \\\\\n",
    " w_1\n",
    " \\end{array}\n",
    " \\right)\n",
    " +\n",
    " \\left(\n",
    " \\begin{array}{c}\n",
    " \\epsilon_1 \\\\\n",
    " \\epsilon_2 \\\\\n",
    " \\vdots \\\\\n",
    " \\epsilon_n\n",
    " \\end{array}\n",
    " \\right)\n",
    "$$"
   ]
  },
  {
   "cell_type": "markdown",
   "metadata": {},
   "source": [
    "$$\n",
    "\\boldsymbol{y} = \\boldsymbol{X}\\boldsymbol{w} + \\boldsymbol{\\epsilon}\n",
    "$$\n",
    "と行列であらわすことができる。"
   ]
  },
  {
   "cell_type": "markdown",
   "metadata": {},
   "source": [
    "- 重回帰モデルの場合 \\\n",
    "　説明変数が複数のモデル。単回帰は直線で予測するが、重回帰は曲面（超平面）となる"
   ]
  },
  {
   "cell_type": "markdown",
   "metadata": {},
   "source": [
    "単回帰分析との違いは特徴量の数とそれに対応するパラメータの数だけで、単回帰分析の場合と同じように行列表現が可能。\n",
    "\n",
    "$$\n",
    " \\begin{eqnarray*}\n",
    " y_1 &= w_0 + w_1 x_{11} + w_2x_{12} + \\dots + w_n x_{1n} + \\epsilon_1 \\\\  \n",
    " y_2 &= w_0 + w_1 x_{21} + w_2x_{22} + \\dots + w_n x_{2n} + \\epsilon_2 \\\\  \n",
    " \\vdots \\\\\n",
    " y_n &= w_0 + w_1 x_{n1} + w_2x_{n2} + \\dots + w_n x_{nn} + \\epsilon_n \\\\  \n",
    " \\end{eqnarray*}\n",
    "$$"
   ]
  },
  {
   "cell_type": "markdown",
   "metadata": {},
   "source": [
    "$$\n",
    " \\left(\n",
    " \\begin{array}{c}\n",
    "  y_1 \\\\\n",
    "  y_2 \\\\\n",
    "  \\vdots \\\\\n",
    "  y_n\n",
    " \\end{array}\n",
    " \\right)\n",
    " =\n",
    "   \\left(\n",
    " \\begin{array}{cccc}\n",
    "  1 & x_{11} & x_{12} & \\dots & x_{1n} \\\\\n",
    "  1 & x_{21} & x_{22} & \\dots & x_{2n} \\\\\n",
    "  & & \\vdots & \\\\\n",
    "  1 & x_{n1} & x_{n2} & \\dots & x_{nn}\n",
    " \\end{array}\n",
    " \\right)\n",
    "  \\left(\n",
    " \\begin{array}{c}\n",
    " w_0 \\\\\n",
    " w_1 \\\\\n",
    " \\vdots \\\\\n",
    " w_n\n",
    " \\end{array}\n",
    " \\right)\n",
    " +\n",
    " \\left(\n",
    " \\begin{array}{c}\n",
    " \\epsilon_1 \\\\\n",
    " \\epsilon_2 \\\\\n",
    " \\vdots \\\\\n",
    " \\epsilon_n\n",
    " \\end{array}\n",
    " \\right)\n",
    "$$"
   ]
  },
  {
   "cell_type": "markdown",
   "metadata": {},
   "source": [
    "$$\n",
    "\\boldsymbol{y} = \\boldsymbol{X}\\boldsymbol{w} + \\boldsymbol{\\epsilon}\n",
    "$$\n",
    "と行列であらわすことができる。"
   ]
  },
  {
   "cell_type": "markdown",
   "metadata": {},
   "source": [
    "#### 【パラメータの推定方法】"
   ]
  },
  {
   "cell_type": "markdown",
   "metadata": {},
   "source": [
    "- 最小二乗法 \\\n",
    " 学習データの平均二乗誤差(MSE)を最小にするようなパラメータを求める。"
   ]
  },
  {
   "cell_type": "markdown",
   "metadata": {},
   "source": [
    "$$\n",
    " MSE = \\frac{1}{N}\\sum_{j=1}^N (\\hat{y}_j - y_j)^2\n",
    "$$\n",
    "\n",
    "$N$はトレーニングデータのデータ数。$\\hat{y}_j$は$j$番目の予測値、$y_j$は$j$番目の正解データ。"
   ]
  },
  {
   "cell_type": "markdown",
   "metadata": {},
   "source": [
    "最小二乗法ではこのMSEが最小となるようなパラメータ$w$を探す。($\\hat{y}$は$w$の関数）\n",
    "MSEを$w$の関数としてみたとき、$w$についての勾配が$0$になるような点を求めることで、MSEが最小となる$w$を求めることができる。"
   ]
  },
  {
   "cell_type": "markdown",
   "metadata": {},
   "source": [
    "MSEを最小にする$w$、つまりMSEの勾配を$0$にする$w$を$\\hat{w}$とすると"
   ]
  },
  {
   "cell_type": "markdown",
   "metadata": {},
   "source": [
    "$$\n",
    "\\hat{w} = {arg}\\min_{w \\in \\mathbb{R}^{m+1} }MSE\n",
    "$$"
   ]
  },
  {
   "cell_type": "markdown",
   "metadata": {},
   "source": [
    "勾配を$0$にする$w$を求める。\n",
    "$$\n",
    " \\frac{\\partial}{\\partial w} {MSE} = 0\n",
    "$$\n",
    "を満たす$w$を求める。"
   ]
  },
  {
   "cell_type": "markdown",
   "metadata": {},
   "source": [
    "$$\n",
    "\\frac{\\partial}{\\partial w}\n",
    "\\left\\{\n",
    "\\frac{1}{N} \\sum_{i=1}^{N} (\\hat{y}_i - y_i)^2\n",
    "\\right\\}\n",
    "= 0\n",
    "$$"
   ]
  },
  {
   "cell_type": "markdown",
   "metadata": {},
   "source": [
    "⇒\n",
    "$$\n",
    " \\frac{1}{N} \\frac{\\partial}{\\partial w}\\left\\{(X\\boldsymbol{w} - \\boldsymbol{y})^T(X\\boldsymbol{w}-\\boldsymbol{y})  \\right\\}= 0\n",
    "$$\n",
    "\n",
    "$$\n",
    " \\frac{1}{N} \\frac{\\partial}{\\partial w}\\left\\{(\\boldsymbol{w}^TX^T X \\boldsymbol{w} - y^T X \\boldsymbol{w}\n",
    " -\\boldsymbol{w}^TX^Ty + y^Ty)  \\right\\}= 0\n",
    "$$"
   ]
  },
  {
   "cell_type": "markdown",
   "metadata": {},
   "source": [
    "$X\\boldsymbol{w}$は行列×ベクトルでベクトルとなるので、$y^TX\\boldsymbol{w}$は内積となる。\n",
    "また、$\\boldsymbol{w}^T \\boldsymbol{X}^T y = (X \\boldsymbol{w})^T y $もベクトル（$X\\boldsymbol{w}$）と$\\boldsymbol{y}$の内積なので、両者は等しい。"
   ]
  },
  {
   "cell_type": "markdown",
   "metadata": {},
   "source": [
    "$$\n",
    "\\frac{1}{N} \\frac{\\partial}{\\partial w}\\left\\{(\\boldsymbol{w}^TX^T X \\boldsymbol{w} -2\\boldsymbol{w}^TX^Ty + y^Ty)  \\right\\}= 0\n",
    "$$"
   ]
  },
  {
   "cell_type": "markdown",
   "metadata": {},
   "source": [
    "$$\n",
    " 2X^TX \\boldsymbol{w} - 2X^T \\boldsymbol{y} =0\n",
    "$$"
   ]
  },
  {
   "cell_type": "markdown",
   "metadata": {},
   "source": [
    "$$\n",
    " \\boldsymbol{w} = (X^T X)^{-1} X^T\\boldsymbol{y}\n",
    "$$"
   ]
  },
  {
   "cell_type": "markdown",
   "metadata": {},
   "source": [
    "この$w$を使うと予測値は\n",
    "$$\n",
    " \\hat{y} = X(X^T X)^{-1} X^T\\boldsymbol{y} \n",
    "$$"
   ]
  },
  {
   "cell_type": "markdown",
   "metadata": {},
   "source": [
    "### ハンズオン（線形回帰）"
   ]
  },
  {
   "cell_type": "markdown",
   "metadata": {},
   "source": [
    "- データセット \\\n",
    "ボストンの住宅データセット"
   ]
  },
  {
   "cell_type": "markdown",
   "metadata": {},
   "source": []
  },
  {
   "cell_type": "code",
   "execution_count": 5,
   "metadata": {},
   "outputs": [],
   "source": [
    "#必要モジュールのインポート\n",
    "from sklearn.datasets import load_boston\n",
    "import pandas as pd\n",
    "import numpy as np\n",
    "import matplotlib.pyplot as plt\n",
    "\n",
    "%matplotlib inline"
   ]
  },
  {
   "cell_type": "code",
   "execution_count": 6,
   "metadata": {},
   "outputs": [],
   "source": [
    "#dataのロード\n",
    "boston = load_boston()"
   ]
  },
  {
   "cell_type": "code",
   "execution_count": 11,
   "metadata": {
    "scrolled": true
   },
   "outputs": [
    {
     "name": "stdout",
     "output_type": "stream",
     "text": [
      "['CRIM' 'ZN' 'INDUS' 'CHAS' 'NOX' 'RM' 'AGE' 'DIS' 'RAD' 'TAX' 'PTRATIO'\n",
      " 'B' 'LSTAT']\n",
      "[[6.3200e-03 1.8000e+01 2.3100e+00 ... 1.5300e+01 3.9690e+02 4.9800e+00]\n",
      " [2.7310e-02 0.0000e+00 7.0700e+00 ... 1.7800e+01 3.9690e+02 9.1400e+00]\n",
      " [2.7290e-02 0.0000e+00 7.0700e+00 ... 1.7800e+01 3.9283e+02 4.0300e+00]\n",
      " ...\n",
      " [6.0760e-02 0.0000e+00 1.1930e+01 ... 2.1000e+01 3.9690e+02 5.6400e+00]\n",
      " [1.0959e-01 0.0000e+00 1.1930e+01 ... 2.1000e+01 3.9345e+02 6.4800e+00]\n",
      " [4.7410e-02 0.0000e+00 1.1930e+01 ... 2.1000e+01 3.9690e+02 7.8800e+00]]\n",
      "[24.  21.6 34.7 33.4 36.2 28.7 22.9 27.1 16.5 18.9 15.  18.9 21.7 20.4\n",
      " 18.2 19.9 23.1 17.5 20.2 18.2 13.6 19.6 15.2 14.5 15.6 13.9 16.6 14.8\n",
      " 18.4 21.  12.7 14.5 13.2 13.1 13.5 18.9 20.  21.  24.7 30.8 34.9 26.6\n",
      " 25.3 24.7 21.2 19.3 20.  16.6 14.4 19.4 19.7 20.5 25.  23.4 18.9 35.4\n",
      " 24.7 31.6 23.3 19.6 18.7 16.  22.2 25.  33.  23.5 19.4 22.  17.4 20.9\n",
      " 24.2 21.7 22.8 23.4 24.1 21.4 20.  20.8 21.2 20.3 28.  23.9 24.8 22.9\n",
      " 23.9 26.6 22.5 22.2 23.6 28.7 22.6 22.  22.9 25.  20.6 28.4 21.4 38.7\n",
      " 43.8 33.2 27.5 26.5 18.6 19.3 20.1 19.5 19.5 20.4 19.8 19.4 21.7 22.8\n",
      " 18.8 18.7 18.5 18.3 21.2 19.2 20.4 19.3 22.  20.3 20.5 17.3 18.8 21.4\n",
      " 15.7 16.2 18.  14.3 19.2 19.6 23.  18.4 15.6 18.1 17.4 17.1 13.3 17.8\n",
      " 14.  14.4 13.4 15.6 11.8 13.8 15.6 14.6 17.8 15.4 21.5 19.6 15.3 19.4\n",
      " 17.  15.6 13.1 41.3 24.3 23.3 27.  50.  50.  50.  22.7 25.  50.  23.8\n",
      " 23.8 22.3 17.4 19.1 23.1 23.6 22.6 29.4 23.2 24.6 29.9 37.2 39.8 36.2\n",
      " 37.9 32.5 26.4 29.6 50.  32.  29.8 34.9 37.  30.5 36.4 31.1 29.1 50.\n",
      " 33.3 30.3 34.6 34.9 32.9 24.1 42.3 48.5 50.  22.6 24.4 22.5 24.4 20.\n",
      " 21.7 19.3 22.4 28.1 23.7 25.  23.3 28.7 21.5 23.  26.7 21.7 27.5 30.1\n",
      " 44.8 50.  37.6 31.6 46.7 31.5 24.3 31.7 41.7 48.3 29.  24.  25.1 31.5\n",
      " 23.7 23.3 22.  20.1 22.2 23.7 17.6 18.5 24.3 20.5 24.5 26.2 24.4 24.8\n",
      " 29.6 42.8 21.9 20.9 44.  50.  36.  30.1 33.8 43.1 48.8 31.  36.5 22.8\n",
      " 30.7 50.  43.5 20.7 21.1 25.2 24.4 35.2 32.4 32.  33.2 33.1 29.1 35.1\n",
      " 45.4 35.4 46.  50.  32.2 22.  20.1 23.2 22.3 24.8 28.5 37.3 27.9 23.9\n",
      " 21.7 28.6 27.1 20.3 22.5 29.  24.8 22.  26.4 33.1 36.1 28.4 33.4 28.2\n",
      " 22.8 20.3 16.1 22.1 19.4 21.6 23.8 16.2 17.8 19.8 23.1 21.  23.8 23.1\n",
      " 20.4 18.5 25.  24.6 23.  22.2 19.3 22.6 19.8 17.1 19.4 22.2 20.7 21.1\n",
      " 19.5 18.5 20.6 19.  18.7 32.7 16.5 23.9 31.2 17.5 17.2 23.1 24.5 26.6\n",
      " 22.9 24.1 18.6 30.1 18.2 20.6 17.8 21.7 22.7 22.6 25.  19.9 20.8 16.8\n",
      " 21.9 27.5 21.9 23.1 50.  50.  50.  50.  50.  13.8 13.8 15.  13.9 13.3\n",
      " 13.1 10.2 10.4 10.9 11.3 12.3  8.8  7.2 10.5  7.4 10.2 11.5 15.1 23.2\n",
      "  9.7 13.8 12.7 13.1 12.5  8.5  5.   6.3  5.6  7.2 12.1  8.3  8.5  5.\n",
      " 11.9 27.9 17.2 27.5 15.  17.2 17.9 16.3  7.   7.2  7.5 10.4  8.8  8.4\n",
      " 16.7 14.2 20.8 13.4 11.7  8.3 10.2 10.9 11.   9.5 14.5 14.1 16.1 14.3\n",
      " 11.7 13.4  9.6  8.7  8.4 12.8 10.5 17.1 18.4 15.4 10.8 11.8 14.9 12.6\n",
      " 14.1 13.  13.4 15.2 16.1 17.8 14.9 14.1 12.7 13.5 14.9 20.  16.4 17.7\n",
      " 19.5 20.2 21.4 19.9 19.  19.1 19.1 20.1 19.9 19.6 23.2 29.8 13.8 13.3\n",
      " 16.7 12.  14.6 21.4 23.  23.7 25.  21.8 20.6 21.2 19.1 20.6 15.2  7.\n",
      "  8.1 13.6 20.1 21.8 24.5 23.1 19.7 18.3 21.2 17.5 16.8 22.4 20.6 23.9\n",
      " 22.  11.9]\n"
     ]
    }
   ],
   "source": [
    "#各特徴量の名称\n",
    "print(boston.feature_names)\n",
    "#各特徴量のデータ\n",
    "print(boston.data)\n",
    "#各データの家賃（目的変数）\n",
    "print(boston.target)"
   ]
  },
  {
   "cell_type": "code",
   "execution_count": 13,
   "metadata": {},
   "outputs": [],
   "source": [
    "#dataをデータフレームにする\n",
    "df = pd.DataFrame(boston.data, columns=boston.feature_names)"
   ]
  },
  {
   "cell_type": "code",
   "execution_count": 14,
   "metadata": {},
   "outputs": [],
   "source": [
    "#dfに家賃の列も追加する\n",
    "df[\"PRICE\"] = np.array(boston.target)"
   ]
  },
  {
   "cell_type": "code",
   "execution_count": 15,
   "metadata": {},
   "outputs": [
    {
     "data": {
      "text/html": [
       "<div>\n",
       "<style scoped>\n",
       "    .dataframe tbody tr th:only-of-type {\n",
       "        vertical-align: middle;\n",
       "    }\n",
       "\n",
       "    .dataframe tbody tr th {\n",
       "        vertical-align: top;\n",
       "    }\n",
       "\n",
       "    .dataframe thead th {\n",
       "        text-align: right;\n",
       "    }\n",
       "</style>\n",
       "<table border=\"1\" class=\"dataframe\">\n",
       "  <thead>\n",
       "    <tr style=\"text-align: right;\">\n",
       "      <th></th>\n",
       "      <th>CRIM</th>\n",
       "      <th>ZN</th>\n",
       "      <th>INDUS</th>\n",
       "      <th>CHAS</th>\n",
       "      <th>NOX</th>\n",
       "      <th>RM</th>\n",
       "      <th>AGE</th>\n",
       "      <th>DIS</th>\n",
       "      <th>RAD</th>\n",
       "      <th>TAX</th>\n",
       "      <th>PTRATIO</th>\n",
       "      <th>B</th>\n",
       "      <th>LSTAT</th>\n",
       "      <th>PRICE</th>\n",
       "    </tr>\n",
       "  </thead>\n",
       "  <tbody>\n",
       "    <tr>\n",
       "      <th>0</th>\n",
       "      <td>0.00632</td>\n",
       "      <td>18.0</td>\n",
       "      <td>2.31</td>\n",
       "      <td>0.0</td>\n",
       "      <td>0.538</td>\n",
       "      <td>6.575</td>\n",
       "      <td>65.2</td>\n",
       "      <td>4.0900</td>\n",
       "      <td>1.0</td>\n",
       "      <td>296.0</td>\n",
       "      <td>15.3</td>\n",
       "      <td>396.90</td>\n",
       "      <td>4.98</td>\n",
       "      <td>24.0</td>\n",
       "    </tr>\n",
       "    <tr>\n",
       "      <th>1</th>\n",
       "      <td>0.02731</td>\n",
       "      <td>0.0</td>\n",
       "      <td>7.07</td>\n",
       "      <td>0.0</td>\n",
       "      <td>0.469</td>\n",
       "      <td>6.421</td>\n",
       "      <td>78.9</td>\n",
       "      <td>4.9671</td>\n",
       "      <td>2.0</td>\n",
       "      <td>242.0</td>\n",
       "      <td>17.8</td>\n",
       "      <td>396.90</td>\n",
       "      <td>9.14</td>\n",
       "      <td>21.6</td>\n",
       "    </tr>\n",
       "    <tr>\n",
       "      <th>2</th>\n",
       "      <td>0.02729</td>\n",
       "      <td>0.0</td>\n",
       "      <td>7.07</td>\n",
       "      <td>0.0</td>\n",
       "      <td>0.469</td>\n",
       "      <td>7.185</td>\n",
       "      <td>61.1</td>\n",
       "      <td>4.9671</td>\n",
       "      <td>2.0</td>\n",
       "      <td>242.0</td>\n",
       "      <td>17.8</td>\n",
       "      <td>392.83</td>\n",
       "      <td>4.03</td>\n",
       "      <td>34.7</td>\n",
       "    </tr>\n",
       "    <tr>\n",
       "      <th>3</th>\n",
       "      <td>0.03237</td>\n",
       "      <td>0.0</td>\n",
       "      <td>2.18</td>\n",
       "      <td>0.0</td>\n",
       "      <td>0.458</td>\n",
       "      <td>6.998</td>\n",
       "      <td>45.8</td>\n",
       "      <td>6.0622</td>\n",
       "      <td>3.0</td>\n",
       "      <td>222.0</td>\n",
       "      <td>18.7</td>\n",
       "      <td>394.63</td>\n",
       "      <td>2.94</td>\n",
       "      <td>33.4</td>\n",
       "    </tr>\n",
       "    <tr>\n",
       "      <th>4</th>\n",
       "      <td>0.06905</td>\n",
       "      <td>0.0</td>\n",
       "      <td>2.18</td>\n",
       "      <td>0.0</td>\n",
       "      <td>0.458</td>\n",
       "      <td>7.147</td>\n",
       "      <td>54.2</td>\n",
       "      <td>6.0622</td>\n",
       "      <td>3.0</td>\n",
       "      <td>222.0</td>\n",
       "      <td>18.7</td>\n",
       "      <td>396.90</td>\n",
       "      <td>5.33</td>\n",
       "      <td>36.2</td>\n",
       "    </tr>\n",
       "  </tbody>\n",
       "</table>\n",
       "</div>"
      ],
      "text/plain": [
       "      CRIM    ZN  INDUS  CHAS    NOX     RM   AGE     DIS  RAD    TAX  \\\n",
       "0  0.00632  18.0   2.31   0.0  0.538  6.575  65.2  4.0900  1.0  296.0   \n",
       "1  0.02731   0.0   7.07   0.0  0.469  6.421  78.9  4.9671  2.0  242.0   \n",
       "2  0.02729   0.0   7.07   0.0  0.469  7.185  61.1  4.9671  2.0  242.0   \n",
       "3  0.03237   0.0   2.18   0.0  0.458  6.998  45.8  6.0622  3.0  222.0   \n",
       "4  0.06905   0.0   2.18   0.0  0.458  7.147  54.2  6.0622  3.0  222.0   \n",
       "\n",
       "   PTRATIO       B  LSTAT  PRICE  \n",
       "0     15.3  396.90   4.98   24.0  \n",
       "1     17.8  396.90   9.14   21.6  \n",
       "2     17.8  392.83   4.03   34.7  \n",
       "3     18.7  394.63   2.94   33.4  \n",
       "4     18.7  396.90   5.33   36.2  "
      ]
     },
     "execution_count": 15,
     "metadata": {},
     "output_type": "execute_result"
    }
   ],
   "source": [
    "df.head()"
   ]
  },
  {
   "cell_type": "markdown",
   "metadata": {},
   "source": [
    "データを確認するときは、各特徴量の値の分布を確認しておくほうがいい。\n",
    "例えば、CHASは先頭5行は0しかない。次のグラフとそれぞれの値をカウントすると0と1しかとらないことがわかる。\n",
    "もしこのデータが0しかとらないなら、特徴量として使用しなくてよくなる"
   ]
  },
  {
   "cell_type": "code",
   "execution_count": 24,
   "metadata": {},
   "outputs": [
    {
     "data": {
      "text/plain": [
       "array([[<matplotlib.axes._subplots.AxesSubplot object at 0x000001CBFA33F588>]],\n",
       "      dtype=object)"
      ]
     },
     "execution_count": 24,
     "metadata": {},
     "output_type": "execute_result"
    },
    {
     "data": {
      "image/png": "[encoded data removed]",
      "text/plain": [
       "<Figure size 432x288 with 1 Axes>"
      ]
     },
     "metadata": {
      "needs_background": "light"
     },
     "output_type": "display_data"
    }
   ],
   "source": [
    "#\"CHAS\"のヒスト\n",
    "df.hist(column=\"CHAS\")"
   ]
  },
  {
   "cell_type": "code",
   "execution_count": 28,
   "metadata": {},
   "outputs": [
    {
     "data": {
      "text/plain": [
       "0.0    471\n",
       "1.0     35\n",
       "Name: CHAS, dtype: int64"
      ]
     },
     "execution_count": 28,
     "metadata": {},
     "output_type": "execute_result"
    }
   ],
   "source": [
    "#[\"CHAS\"]の値\n",
    "df[\"CHAS\"].value_counts()"
   ]
  },
  {
   "cell_type": "markdown",
   "metadata": {},
   "source": [
    "データセットを確認すると下記のように書かれている。\n",
    "Charles River dummy variable (= 1 if tract bounds river; 0 otherwise）\n",
    "チャールズリバーに道路が接している場合は１、そうでない場合は0が格納されている。\\\n",
    "データを確認するときは各特徴量の相関などを確認することも必要"
   ]
  },
  {
   "cell_type": "markdown",
   "metadata": {},
   "source": [
    "### 単回帰分析"
   ]
  },
  {
   "cell_type": "code",
   "execution_count": 63,
   "metadata": {},
   "outputs": [
    {
     "name": "stdout",
     "output_type": "stream",
     "text": [
      "(506,) (506, 1)\n"
     ]
    }
   ],
   "source": [
    "#単回帰分析の一つの説明変数としてRMを使用する（1住戸あたりの平均部屋数）\n",
    "print(df[\"RM\"].values.shape, df[[\"RM\"]].values.shape)"
   ]
  },
  {
   "cell_type": "markdown",
   "metadata": {},
   "source": [
    "後々scikit-learnのfitメソッドにデータを入れるが、fitは2次元配列を想定している。\n",
    "そのため、上の前者の方法でデータをとると1次元のデータになるため、エラーとなる。\n",
    "一つの特徴量でも配列でColumnを指定する必要がある。"
   ]
  },
  {
   "cell_type": "code",
   "execution_count": 74,
   "metadata": {},
   "outputs": [
    {
     "name": "stdout",
     "output_type": "stream",
     "text": [
      "(506, 1)\n"
     ]
    }
   ],
   "source": [
    "data = df[[\"RM\"]]\n",
    "print(data.shape)"
   ]
  },
  {
   "cell_type": "code",
   "execution_count": 88,
   "metadata": {},
   "outputs": [],
   "source": [
    "target = df.loc[:, [\"PRICE\"]].values"
   ]
  },
  {
   "cell_type": "code",
   "execution_count": 89,
   "metadata": {},
   "outputs": [
    {
     "data": {
      "text/plain": [
       "(506, 1)"
      ]
     },
     "execution_count": 89,
     "metadata": {},
     "output_type": "execute_result"
    }
   ],
   "source": [
    "target.shape"
   ]
  },
  {
   "cell_type": "markdown",
   "metadata": {},
   "source": [
    "targetは1次元を想定しているのでこれでOK。\n",
    "df.loc[:, [\"PRICE\"]].valuesとしてもfitのエラーは出ない。"
   ]
  },
  {
   "cell_type": "code",
   "execution_count": 90,
   "metadata": {},
   "outputs": [],
   "source": [
    "#scikit-learnの線形回帰モデルをインポート\n",
    "from sklearn.linear_model import LinearRegression"
   ]
  },
  {
   "cell_type": "code",
   "execution_count": 91,
   "metadata": {},
   "outputs": [
    {
     "data": {
      "text/plain": [
       "LinearRegression(copy_X=True, fit_intercept=True, n_jobs=None, normalize=False)"
      ]
     },
     "execution_count": 91,
     "metadata": {},
     "output_type": "execute_result"
    }
   ],
   "source": [
    "model = LinearRegression()\n",
    "model.fit(data, target)"
   ]
  },
  {
   "cell_type": "markdown",
   "metadata": {},
   "source": [
    "これでデータを基にした予測モデルができた。部屋数が１のときの予測をしてみる。"
   ]
  },
  {
   "cell_type": "code",
   "execution_count": 92,
   "metadata": {},
   "outputs": [
    {
     "data": {
      "text/plain": [
       "array([[-25.5685118]])"
      ]
     },
     "execution_count": 92,
     "metadata": {},
     "output_type": "execute_result"
    }
   ],
   "source": [
    "model.predict([[1]])"
   ]
  },
  {
   "cell_type": "markdown",
   "metadata": {},
   "source": [
    "結果は-25000$となる。マイナスの値であり、家賃の予測としては不適当。\"RM\"のデータを確認してみる"
   ]
  },
  {
   "cell_type": "code",
   "execution_count": 86,
   "metadata": {},
   "outputs": [
    {
     "name": "stdout",
     "output_type": "stream",
     "text": [
      "3.561\n"
     ]
    },
    {
     "data": {
      "image/png": "[encoded data removed]",
      "text/plain": [
       "<Figure size 432x288 with 1 Axes>"
      ]
     },
     "metadata": {
      "needs_background": "light"
     },
     "output_type": "display_data"
    }
   ],
   "source": [
    "df.hist(column=\"RM\")\n",
    "print(df[\"RM\"].min())"
   ]
  },
  {
   "cell_type": "markdown",
   "metadata": {},
   "source": [
    "最低値が3.561であることから、もともとのデータセットに1部屋のデータなかったことで、予測が外挿となっていることがわかる。1部屋のデータも予測したい場合はモデル作成用のデータにそれらのデータも入れる必要がある。"
   ]
  },
  {
   "cell_type": "markdown",
   "metadata": {},
   "source": [
    "### 重回帰分析"
   ]
  },
  {
   "cell_type": "markdown",
   "metadata": {},
   "source": [
    "特徴量として\"CRIM\", \"RM\"の二つを使用する。"
   ]
  },
  {
   "cell_type": "code",
   "execution_count": 93,
   "metadata": {},
   "outputs": [],
   "source": [
    "data2 = df[[\"CRIM\", \"RM\"]].values"
   ]
  },
  {
   "cell_type": "code",
   "execution_count": 95,
   "metadata": {},
   "outputs": [
    {
     "data": {
      "text/plain": [
       "(506, 2)"
      ]
     },
     "execution_count": 95,
     "metadata": {},
     "output_type": "execute_result"
    }
   ],
   "source": [
    "data2.shape"
   ]
  },
  {
   "cell_type": "code",
   "execution_count": 97,
   "metadata": {},
   "outputs": [],
   "source": [
    "target2 = df[[\"PRICE\"]].values"
   ]
  },
  {
   "cell_type": "code",
   "execution_count": 102,
   "metadata": {},
   "outputs": [],
   "source": [
    "#modelの作成\n",
    "model2 = model.fit(data2, target2)"
   ]
  },
  {
   "cell_type": "code",
   "execution_count": 107,
   "metadata": {},
   "outputs": [
    {
     "data": {
      "text/plain": [
       "array([[24.19449326]])"
      ]
     },
     "execution_count": 107,
     "metadata": {},
     "output_type": "execute_result"
    }
   ],
   "source": [
    "model2.predict([[20.0, 7]])"
   ]
  },
  {
   "cell_type": "markdown",
   "metadata": {},
   "source": [
    "モデルの予測値が妥当かどうか具体的な値を入れて確認する必要がある。\n",
    "例えば\"CRIM\"は大きくなると家賃は安くなるだろうし、\"RM\"も少なくなれば家賃は安くなるだろうなど。\n",
    "具体的な値で確認することも大事"
   ]
  },
  {
   "cell_type": "markdown",
   "metadata": {},
   "source": [
    "【課題】\n",
    "部屋数が4で犯罪率が0.3の物件を予測すると"
   ]
  },
  {
   "cell_type": "code",
   "execution_count": 109,
   "metadata": {},
   "outputs": [
    {
     "data": {
      "text/plain": [
       "array([[4.24007956]])"
      ]
     },
     "execution_count": 109,
     "metadata": {},
     "output_type": "execute_result"
    }
   ],
   "source": [
    "model2.predict([[0.3,4]])"
   ]
  },
  {
   "cell_type": "markdown",
   "metadata": {},
   "source": [
    "家賃は$4,240となる"
   ]
  },
  {
   "cell_type": "markdown",
   "metadata": {},
   "source": [
    "### 回帰分析のモデル検証"
   ]
  },
  {
   "cell_type": "markdown",
   "metadata": {},
   "source": [
    "#### 決定係数\n",
    "$R^2$値:\n",
    "モデルの当てはまりの良さを示す指標"
   ]
  },
  {
   "cell_type": "markdown",
   "metadata": {},
   "source": [
    "$$\n",
    " R^2(y, \\hat{y}) = 1 - \\frac{\\sum(y_i - \\hat{y}_i)^2}{\\sum(y_i - \\bar{y})^2}\n",
    "$$"
   ]
  },
  {
   "cell_type": "markdown",
   "metadata": {},
   "source": [
    "当てはまりが最もいい⇒予測値が正解データに完全に一致するとき、$R^2$は1となる。 \\\n",
    "scikit-learnでの実装"
   ]
  },
  {
   "cell_type": "code",
   "execution_count": 117,
   "metadata": {},
   "outputs": [
    {
     "data": {
      "text/plain": [
       "0.6213771216196422"
      ]
     },
     "execution_count": 117,
     "metadata": {},
     "output_type": "execute_result"
    }
   ],
   "source": [
    "from sklearn.model_selection import train_test_split\n",
    "from sklearn.metrics import r2_score\n",
    "\n",
    "X_train, X_test, y_train, y_test = train_test_split(data2, target2, test_size=0.2, random_state=1)\n",
    "#分割したデータで学習\n",
    "model3 = model.fit(X_train, y_train)\n",
    "#テストデータの予測\n",
    "y_pred = model3.predict(X_test)\n",
    "#予測データと正解データを用いてR2値を計算\n",
    "r2_score(y_test, y_pred)"
   ]
  },
  {
   "cell_type": "markdown",
   "metadata": {},
   "source": [
    "MSE(平均二乗誤差）の計算"
   ]
  },
  {
   "cell_type": "markdown",
   "metadata": {},
   "source": [
    "回帰分析では(平均)二乗誤差を小さくすることで、パラメータを決定している。\n",
    "パラメータやテストサイズを変えてモデルの性能を確認していくうえで平均二乗誤差をプロットしていくと便利な場合もある。"
   ]
  },
  {
   "cell_type": "code",
   "execution_count": 120,
   "metadata": {},
   "outputs": [
    {
     "data": {
      "text/plain": [
       "37.4183106622784"
      ]
     },
     "execution_count": 120,
     "metadata": {},
     "output_type": "execute_result"
    }
   ],
   "source": [
    "#scikit-learnでのMSE計算\n",
    "from sklearn.metrics import mean_squared_error\n",
    "mean_squared_error(y_test, y_pred)"
   ]
  },
  {
   "cell_type": "markdown",
   "metadata": {},
   "source": [
    "トレーニングデータとテストデータの予測値の残渣プロット\n",
    "実際の予測データと実データを比較することもあるので、プロットの仕方は要確認"
   ]
  },
  {
   "cell_type": "code",
   "execution_count": 150,
   "metadata": {},
   "outputs": [
    {
     "name": "stdout",
     "output_type": "stream",
     "text": [
      "(404, 1)\n"
     ]
    },
    {
     "data": {
      "image/png": "[encoded data removed]",
      "text/plain": [
       "<Figure size 432x288 with 1 Axes>"
      ]
     },
     "metadata": {},
     "output_type": "display_data"
    }
   ],
   "source": [
    "import matplotlib.pyplot as plt\n",
    "import seaborn as sns\n",
    "sns.set()\n",
    "\n",
    "train_pred = model3.predict(X_train)\n",
    "test_pred = model3.predict(X_test)\n",
    "print(train_pred.shape)\n",
    "\n",
    "fig = plt.figure()\n",
    "ax = fig.add_subplot(1,1,1)\n",
    "ax.scatter(train_pred, y_train-train_pred, marker=\"o\", c=\"g\", label=\"train_data\")\n",
    "ax.scatter(test_pred, y_test-test_pred, marker=\"o\", c=\"b\", label=\"test_data\")\n",
    "ax.axhline(y=0, c=\"r\")\n",
    "ax.set_xlabel(\"PredictValue\")\n",
    "ax.legend()\n",
    "plt.show()"
   ]
  },
  {
   "cell_type": "markdown",
   "metadata": {},
   "source": []
  },
  {
   "cell_type": "code",
   "execution_count": null,
   "metadata": {},
   "outputs": [],
   "source": []
  }
 ],
 "metadata": {
  "kernelspec": {
   "display_name": "Environment (conda_anaconda3)",
   "language": "python",
   "name": "conda_anaconda3"
  },
  "language_info": {
   "codemirror_mode": {
    "name": "ipython",
    "version": 3
   },
   "file_extension": ".py",
   "mimetype": "text/x-python",
   "name": "python",
   "nbconvert_exporter": "python",
   "pygments_lexer": "ipython3",
   "version": "3.7.6"
  }
 },
 "nbformat": 4,
 "nbformat_minor": 4
}
