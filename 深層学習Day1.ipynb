{
 "cells": [
  {
   "cell_type": "markdown",
   "metadata": {},
   "source": [
    "# Day1ニューラルネットワーク"
   ]
  },
  {
   "cell_type": "markdown",
   "metadata": {},
   "source": [
    "## 全体像"
   ]
  },
  {
   "cell_type": "markdown",
   "metadata": {},
   "source": [
    "### NNでできること"
   ]
  },
  {
   "cell_type": "markdown",
   "metadata": {},
   "source": [
    "### 回帰\n",
    "- 結果予想\n",
    "売上予想、株価予想\n",
    "- ランキング\n",
    "順位予想\n",
    "### 分類\n",
    "- 画像分類など\n",
    "\n",
    "NNでは回帰と分類どちらも行うことが可能。"
   ]
  },
  {
   "cell_type": "markdown",
   "metadata": {},
   "source": [
    "## 入力層～中間層"
   ]
  },
  {
   "cell_type": "markdown",
   "metadata": {},
   "source": [
    "入力：$\\boldsymbol{x} = \\{x_1, x_2, x_3, x_4 \\}$ \\\n",
    "重み：$\\boldsymbol{W} = \\{w_1, w_2, w_3, w_4 \\}$ \\\n",
    "バイアス：$b$ \\\n",
    "とするとき、総入力$u$は、\n",
    "$$\n",
    " u = \\boldsymbol{W} \\boldsymbol{x} + b\n",
    "$$\n",
    "\n",
    "と表され、中間層からの出力は総入力$u$を活性化関数で変換した\n",
    "$$\n",
    " z = f(u)\n",
    "$$\n",
    "となる。多層のニューラルネットの場合は、この出力$z$が次の中間層への入力となる。"
   ]
  },
  {
   "cell_type": "markdown",
   "metadata": {},
   "source": [
    "## 活性化関数"
   ]
  },
  {
   "cell_type": "markdown",
   "metadata": {},
   "source": [
    "ニューラルネットワークにおいて、次の層への出力の大きさを決める非線形の関数。\\\n",
    "入力された値に応じて、次の層への信号のON/OFFや強弱を決める働きをする。"
   ]
  },
  {
   "cell_type": "markdown",
   "metadata": {},
   "source": [
    "【中間層用の活性化関数の種類】\n",
    "- ステップ関数\\\n",
    "閾値を超えたときに発火する関数、1もしくは0を出力する。パーセプトロンで使用されたが、線形分離可能なものしか学習できなかった。\n",
    "\n",
    "\n",
    "- シグモイド関数\\\n",
    "0～1の値を緩やかにとる関数。信号の強弱を伝えられる。\\\n",
    "大きな入力に対しては、出力の変化が緩やかなため勾配消失問題を起こすことがある。\n",
    "\n",
    "\n",
    "- Relu関数\\\n",
    "現状、中間層の活性化関数として最も使用されている関数。\n",
    "勾配消失問題を回避すること、スパース化に貢献することで良い結果が得られている\n"
   ]
  },
  {
   "cell_type": "code",
   "execution_count": 21,
   "metadata": {},
   "outputs": [
    {
     "data": {
      "image/png": "[encoded data removed]",
      "text/plain": [
       "<Figure size 864x360 with 3 Axes>"
      ]
     },
     "metadata": {
      "needs_background": "light"
     },
     "output_type": "display_data"
    }
   ],
   "source": [
    "import matplotlib.pyplot as plt\n",
    "import numpy as np\n",
    "\n",
    "def step_funciton(x):\n",
    "    return (x > 0).astype(np.int)\n",
    "    \n",
    "def sigmoid(x):\n",
    "    return 1/(1+np.exp(-x))\n",
    "\n",
    "def relu(x):\n",
    "    return np.maximum(x,0)\n",
    "x = np.linspace(-10,10,50)\n",
    "\n",
    "fig, ax = plt.subplots(1,3, figsize=(12,5))\n",
    "ax[0].plot(x,step_funciton(x))\n",
    "ax[1].plot(x,sigmoid(x))\n",
    "ax[2].plot(x,relu(x))\n",
    "\n",
    "ax[0].set_title(\"Step function\")\n",
    "ax[1].set_title(\"Sigmoid function\")\n",
    "ax[2].set_title(\"Relu function\")\n",
    "plt.show()"
   ]
  },
  {
   "cell_type": "markdown",
   "metadata": {},
   "source": [
    "## 出力層"
   ]
  },
  {
   "cell_type": "markdown",
   "metadata": {},
   "source": [
    "【出力層の役割】\\\n",
    "分類問題であれば入力データがそれぞれのクラスに属する確率を、回帰問題であれば入力に対する予測値（連続値）を出力すること。\n",
    "\n",
    "【誤差関数】\\\n",
    "NN全体の重みを学習するために用いられる関数。\\\n",
    "訓練データの答えと出力層から出力された結果を比較して誤差を計算する。\\\n",
    "その誤差を小さくするように重みを更新していく。\n",
    "\n",
    "【出力層の活性化関数】\\\n",
    "回帰問題の場合は出力層はそのままの値を出力するが、分類の問題の場合は確率に変換する必要がある。（出力の大きさの比率はそのままで）"
   ]
  },
  {
   "cell_type": "markdown",
   "metadata": {},
   "source": [
    "### 出力層の活性化関数と誤差関数の種類"
   ]
  },
  {
   "cell_type": "markdown",
   "metadata": {},
   "source": [
    "対称とする問題によって出力層の活性化関数と誤差関数の組み合わせが決まる。"
   ]
  },
  {
   "cell_type": "markdown",
   "metadata": {},
   "source": [
    "| |回帰|二値分類|多クラス分類|\n",
    "| :---:| :---: | :---: | :---: | \n",
    "|活性化関数|恒等写像|シグモイド関数|ソフトマックス関数|\n",
    "|誤差関数| 二乗誤差|交差エントロピー|交差エントロピー|"
   ]
  },
  {
   "cell_type": "markdown",
   "metadata": {},
   "source": [
    "## 勾配降下法"
   ]
  },
  {
   "cell_type": "markdown",
   "metadata": {},
   "source": [
    "NNでは学習を通して、誤差を最小にするようなパラメータを求めることで、ネットワークを作成することを目的としている。誤差を最小化するようなパラメータを求めるために勾配降下法を用いてパラメータを最適化する。"
   ]
  },
  {
   "cell_type": "markdown",
   "metadata": {},
   "source": [
    "### 勾配降下法の種類"
   ]
  },
  {
   "cell_type": "markdown",
   "metadata": {},
   "source": [
    "- 勾配降下法\\\n",
    "普通の勾配降下法\n",
    "$$\n",
    " w^{(t+1)} = w^{(t)} - \\epsilon \\nabla E \\\\\n",
    " \\nabla E = \\frac{\\partial{E}}{\\partial{w}}\n",
    "$$\n",
    "で重みを更新していく。$\\epsilon$は学習率と呼ばれ自分で設定する値、大きすぎると発散し、小さすぎると学習が進まない。このときの誤差関数$E$は全サンプルの平均誤差なので、1回の学習（1回の重みの更新毎に）で全データを読み込む必要があり、学習コストが大きくなる。\n",
    "\n",
    "\n",
    "- 確率的勾配降下法\\\n",
    "重みの更新に使用するデータをランダムに選択したデータ（基本は一つのデータ）の誤差を用いて更新を行う。これにより、計算コストを削減でき、局所極小解への収束リスクを低減できる。また、オンライン学習が可能。\\\n",
    "※オンライン学習：データが入って来るたびに都度パラメータを更新し、学習すること。\n",
    "\n",
    "$$\n",
    " w^{(t+1)} = w^{(t)} - \\epsilon \\nabla E_n \\\\\n",
    " \\nabla E = \\frac{\\partial{E_n}}{\\partial{w}}\n",
    "$$\n",
    "\n",
    "- ミニバッチ勾配降下法\\\n",
    "確率的勾配降下法を改良したもの、訓練データをランダムに分割し、その分割したデータの集合を用いて学習する。\n",
    "ある程度まとまったデータで学習していくので、通常の勾配降下法に比べて学習コストを削減できる。また、スレッドの並列化などによる計算資源の有効活用も可能。\n",
    "\n",
    "$$\n",
    " w^{(t+1)} = w^{(t)} - \\epsilon \\nabla E_t \\\\\n",
    " E_t = \\frac{1}{N_t} \\sum_{n \\in D_t} E_n \\\\\n",
    " N_t = |D_t|\n",
    "$$"
   ]
  },
  {
   "cell_type": "markdown",
   "metadata": {},
   "source": [
    "## 誤差勾配の計算（誤差逆伝搬）"
   ]
  },
  {
   "cell_type": "markdown",
   "metadata": {},
   "source": [
    "重みを更新をするためには、誤差関数の勾配を計算する必要がある。\\\n",
    "### 【数値微分】\n",
    "微小な数値hを使って、疑似的に微分を計算する方法。\n",
    "各パラメータ$w_m$についてそれぞれ$E(w_m\\pm h)$を計算しなければならず、計算量が多くなる。\\\n",
    "※できないわけではないが現実的ではない。\n",
    "\n",
    "$$\n",
    " \\frac{\\partial E}{\\partial w_m} \\approx \\frac{E(w_m + h) - E(w_m -h)}{2h}\n",
    "$$"
   ]
  },
  {
   "cell_type": "markdown",
   "metadata": {},
   "source": [
    "### 【誤差逆伝搬】"
   ]
  },
  {
   "cell_type": "markdown",
   "metadata": {},
   "source": [
    "算出された誤差を出力側から順に微分した値を前の層へ伝搬し、各パラメータでの微分値を解析的に計算する手法。\n",
    "微分の連鎖律を用いて計算する。\n",
    "例えば下の図では、$w_1$に対する$E$の偏微分は、\n",
    "$$\n",
    " \\frac{\\partial E}{\\partial y}\\frac{\\partial y}{\\partial w_1}\n",
    "$$\n",
    "と計算でき,$w_2$についても同様の計算で求められる。このように計算することで、数値微分のときとは異なり、すべての$w$の変化に対して$E$の変化量を計算する必要がなくなり（Eについては$\\frac{\\partial E}{\\partial y}$を計算するだけでいい）、各ノードの入力に対するノードの出力の変化から各パラーメータに対する誤差の変化量を求めることができる。"
   ]
  },
  {
   "attachments": {
    "%E3%82%AD%E3%83%A3%E3%83%97%E3%83%81%E3%83%A3.PNG": {
     "image/png": "[encoded data removed]"
    }
   },
   "cell_type": "markdown",
   "metadata": {},
   "source": [
    "![%E3%82%AD%E3%83%A3%E3%83%97%E3%83%81%E3%83%A3.PNG](attachment:%E3%82%AD%E3%83%A3%E3%83%97%E3%83%81%E3%83%A3.PNG)"
   ]
  },
  {
   "cell_type": "markdown",
   "metadata": {},
   "source": [
    "## 確認テスト"
   ]
  },
  {
   "cell_type": "markdown",
   "metadata": {},
   "source": [
    "【確認テスト①】\\\n",
    "1)ディープラーニングが結局何をしようとしているか\\\n",
    "　⇒多数の中間層を持つニューラルネットワークを用いた、入力値を目的の値に変換する数学モデルを構築すること。\n",
    "2)何の値を最適化するのが最終目的か\\\n",
    "　⇒重みとバイアス"
   ]
  },
  {
   "cell_type": "markdown",
   "metadata": {},
   "source": [
    "【確認テスト②】\\\n",
    "入力層:2ノード1層、中間層：3ノード2層、出力層：1ノード1層のネットワークを書け"
   ]
  },
  {
   "attachments": {
    "%E3%82%AD%E3%83%A3%E3%83%97%E3%83%81%E3%83%A3nn.PNG": {
     "image/png": "[encoded data removed]"
    }
   },
   "cell_type": "markdown",
   "metadata": {},
   "source": [
    "![%E3%82%AD%E3%83%A3%E3%83%97%E3%83%81%E3%83%A3nn.PNG](attachment:%E3%82%AD%E3%83%A3%E3%83%97%E3%83%81%E3%83%A3nn.PNG)"
   ]
  },
  {
   "cell_type": "markdown",
   "metadata": {},
   "source": [
    "【確認テスト③】\n",
    "総入力$u$をPythonのコードで書け"
   ]
  },
  {
   "cell_type": "code",
   "execution_count": 23,
   "metadata": {},
   "outputs": [],
   "source": [
    "def net_sum(W, x, b):\n",
    "    return np.dot(W, x) + b"
   ]
  },
  {
   "cell_type": "markdown",
   "metadata": {},
   "source": [
    "【確認テスト④】\n",
    "1-1のファイルから中間層の出力を定義しているソースを抜き出せ"
   ]
  },
  {
   "cell_type": "markdown",
   "metadata": {},
   "source": [
    "z2 = functions.relu(u2)"
   ]
  },
  {
   "cell_type": "markdown",
   "metadata": {},
   "source": [
    "【確認テスト⑤】線形と非線形の違いを図にして、簡単に説明せよ"
   ]
  },
  {
   "attachments": {
    "%E3%82%AD%E3%83%A3%E3%83%97%E3%83%81%E3%83%A34.PNG": {
     "image/png": "[encoded data removed]"
    }
   },
   "cell_type": "markdown",
   "metadata": {},
   "source": [
    "![%E3%82%AD%E3%83%A3%E3%83%97%E3%83%81%E3%83%A34.PNG](attachment:%E3%82%AD%E3%83%A3%E3%83%97%E3%83%81%E3%83%A34.PNG)"
   ]
  },
  {
   "cell_type": "markdown",
   "metadata": {},
   "source": [
    "【確認テスト⑥】全結合NN\n",
    "配布されたソースコードより、該当する箇所（シグモイド関数による出力箇所)を抜き出せ \\\n",
    "\n",
    "z = functions.sigmoid(u)"
   ]
  },
  {
   "cell_type": "markdown",
   "metadata": {},
   "source": [
    "【確認テスト⑦】\n",
    "誤差関数の二乗平方和の二乗する理由と1/2の係数の意味を述べよ\\\n",
    "\n",
    "・2乗の意味\\\n",
    "各データの誤差を計算すると正と負の値が発生する、単純に足し合わせると全体の誤差を正確に表すことができないため、二乗して正の値にしている。\n",
    "\n",
    "・1/2の意味\\\n",
    "誤差逆伝搬の計算の際に、誤差関数を微分するがその際に出る係数２を打ち消すため、計算しやすさのための係数であり本質的に意味のあるものではない。"
   ]
  },
  {
   "cell_type": "markdown",
   "metadata": {},
   "source": [
    "【確認テスト⑧】ソフトマックス関数のコードの処理を説明せよ（コメントアウトで説明する）"
   ]
  },
  {
   "cell_type": "code",
   "execution_count": null,
   "metadata": {},
   "outputs": [],
   "source": [
    "def softmax(x):\n",
    "    if x.ndim == 2: #入力がバッチ単位で来ている場合の分岐\n",
    "        x = x.T #入力データを転置\n",
    "        x = x - np.max(x, axis=0) #最大値を引くことでオーバーフロー対策、1行上で転置しているので縦方向が一つのデータのまとまり\n",
    "        y = np.exp(x) / np.sum(np.exp(x), axis=0) #ソフトマックス関数の計算\n",
    "        return y.T\n",
    "\n",
    "    x = x - np.max(x) #xの値が大きくなるとexp(x)は非常に大きな値をとりうる。最大値を引くことでオーバーフロー対策している\n",
    "    return np.exp(x) / np.sum(np.exp(x))"
   ]
  },
  {
   "cell_type": "markdown",
   "metadata": {},
   "source": [
    "【確認テスト⑨】　交差エントロピーのコードを1行ずつ処理を説明せよ"
   ]
  },
  {
   "cell_type": "code",
   "execution_count": 170,
   "metadata": {},
   "outputs": [],
   "source": [
    "def cross_entropy_error(d, y):\n",
    "    if y.ndim == 1: #入力されるデータが一つの場合、データの形を成型する（ミニバッチを想定しているため）\n",
    "        d = d.reshape(1, d.size) \n",
    "        y = y.reshape(1, y.size)\n",
    "        \n",
    "    # 教師データがone-hot-vectorの場合、正解ラベルのインデックスに変換\n",
    "    if d.size == y.size: #yはOnehotの形式なので、サイズが同じならdもonehotで与えられている。\n",
    "        d = d.argmax(axis=1) #各データのラベルの番号を取得\n",
    "             \n",
    "    batch_size = y.shape[0] #バッチサイズを取得\n",
    "    return -np.sum(np.log(y[np.arange(batch_size), d] + 1e-7)) / batch_size #クロスエントロピーの計算"
   ]
  },
  {
   "cell_type": "markdown",
   "metadata": {},
   "source": [
    "最後の出力の部分については、\n",
    "y[np.arange(batch_size),d] で正解ラベルの分だけ予測値から取り出している。1e-7は発散防止"
   ]
  },
  {
   "cell_type": "markdown",
   "metadata": {},
   "source": [
    "【確認テスト⑩】勾配降下法の該当するソースコードを抜き出せ（1-2backpropagationから）"
   ]
  },
  {
   "cell_type": "markdown",
   "metadata": {},
   "source": [
    "network[key]  -= learning_rate * grad[key]"
   ]
  },
  {
   "cell_type": "markdown",
   "metadata": {},
   "source": [
    "【確認テスト⑩】オンライン学習とは何か"
   ]
  },
  {
   "cell_type": "markdown",
   "metadata": {},
   "source": [
    "データが入ってくるたびにその都度パラメータを更新していくこと。"
   ]
  },
  {
   "cell_type": "markdown",
   "metadata": {},
   "source": [
    "バッチ学習は一度にすべてのデータを使ってパラメータを更新する"
   ]
  },
  {
   "cell_type": "markdown",
   "metadata": {},
   "source": [
    "【確認テスト⑪】誤差逆伝搬での不要な再帰的処理を避けるために、計算結果を保持しているソースコードを抽出せよ。"
   ]
  },
  {
   "cell_type": "code",
   "execution_count": null,
   "metadata": {},
   "outputs": [],
   "source": [
    "delta2 = functions.d_sigmoid_with_loss(d, y)\n",
    "delta1 = np.dot(delta2, W2.T) * functions.d_relu(z1)"
   ]
  },
  {
   "cell_type": "markdown",
   "metadata": {},
   "source": [
    "【確認テスト⑫】スライド中の空欄に該当するソースコードを探せ\n",
    "\n",
    "delta2 = functions.d_mean_squared_error(d, y)\\\n",
    "grad['W2'] = np.dot(z1.T, delta2)"
   ]
  },
  {
   "cell_type": "markdown",
   "metadata": {},
   "source": [
    "## code実習演習"
   ]
  },
  {
   "cell_type": "code",
   "execution_count": 31,
   "metadata": {},
   "outputs": [],
   "source": [
    "import numpy as np"
   ]
  },
  {
   "cell_type": "markdown",
   "metadata": {},
   "source": [
    "### 順伝搬（単層・単ユニット）"
   ]
  },
  {
   "cell_type": "code",
   "execution_count": 34,
   "metadata": {},
   "outputs": [],
   "source": [
    "#入力\n",
    "x = np.array([1,2])\n",
    "#重み\n",
    "W = np.array([[0.1],[0.2]])\n",
    "\n",
    "#バイアス\n",
    "b =0.5\n",
    "\n",
    "#総入力\n",
    "u = np.dot(x,W)\n",
    "\n",
    "#中間層の出力\n",
    "z = sigmoid(u)"
   ]
  },
  {
   "cell_type": "markdown",
   "metadata": {},
   "source": [
    "### 順伝搬（単層、複数ユニット）"
   ]
  },
  {
   "cell_type": "code",
   "execution_count": 138,
   "metadata": {},
   "outputs": [
    {
     "name": "stdout",
     "output_type": "stream",
     "text": [
      "z : [0.95150085 0.86065924 0.98679596]\n"
     ]
    }
   ],
   "source": [
    "#隠れ層のユニット数\n",
    "hidden_units = 3\n",
    "\n",
    "#入力\n",
    "x = np.array([1.0, 5.0, 2.0, -1.0])\n",
    "\n",
    "#重み（0~1で初期化）\n",
    "W = np.random.rand(x.shape[0], hidden_units)\n",
    "\n",
    "#バイアス\n",
    "b = np.random.rand(hidden_units)\n",
    "\n",
    "#そう入力\n",
    "u = np.dot(x, W)\n",
    "\n",
    "#中間層の出力\n",
    "z = sigmoid(u)\n",
    "\n",
    "print(\"z : {}\".format(z))"
   ]
  },
  {
   "cell_type": "markdown",
   "metadata": {},
   "source": [
    "##### 重みのサイズについて\n",
    "入力の要素数が$m$, 隠れ層のユニット数を$n$とするとき、\n",
    "重みのサイズは$m \\times n$となる。"
   ]
  },
  {
   "cell_type": "markdown",
   "metadata": {},
   "source": [
    "### 順伝搬（3層,複数ユニット）"
   ]
  },
  {
   "cell_type": "code",
   "execution_count": 53,
   "metadata": {},
   "outputs": [],
   "source": [
    "#入力\n",
    "x = np.array([1.0, 2.0, 3.0])\n",
    "\n",
    "#3層\n",
    "def init_network(input_size):\n",
    "    network = {}\n",
    "    \n",
    "    #入力～1層目の重み\n",
    "    network[\"W1\"] = np.random.rand(input_size, 3)\n",
    "    #1層～２層の重み\n",
    "    network[\"W2\"] = np.random.rand(3, 2)\n",
    "    \n",
    "    #2層～3層の重み\n",
    "    network[\"W3\"] = np.random.rand(2,2)\n",
    "    \n",
    "    #各中間層でのバイアス\n",
    "    network['b1'] = np.array([0.1, 0.2, 0.3])\n",
    "    network['b2'] = np.array([0.1, 0.2])\n",
    "    network['b3'] = np.array([1, 2])\n",
    "    \n",
    "    return network\n",
    "    \n",
    "def forward(network, x):\n",
    "    W1, W2, W3 = network['W1'], network['W2'], network['W3']\n",
    "    b1, b2, b3 = network['b1'], network['b2'], network['b3']\n",
    "    \n",
    "    # 1層の総入力\n",
    "    u1 = np.dot(x, W1) + b1\n",
    "    \n",
    "    # 1層の総出力\n",
    "    z1 = relu(u1)\n",
    "    \n",
    "    # 2層の総入力\n",
    "    u2 = np.dot(z1, W2) + b2\n",
    "    \n",
    "    # 2層の総出力\n",
    "    z2 = relu(u2)\n",
    "\n",
    "    # 出力層の総入力\n",
    "    u3 = np.dot(z2, W3) + b3\n",
    "    \n",
    "    # 出力層の総出力\n",
    "    y = u3\n",
    "    \n",
    "    return y"
   ]
  },
  {
   "cell_type": "code",
   "execution_count": 54,
   "metadata": {},
   "outputs": [
    {
     "data": {
      "text/plain": [
       "array([3.52299102, 8.0110835 ])"
      ]
     },
     "execution_count": 54,
     "metadata": {},
     "output_type": "execute_result"
    }
   ],
   "source": [
    "network = init_network(x.shape[0])\n",
    "forward(network, x)"
   ]
  },
  {
   "cell_type": "markdown",
   "metadata": {},
   "source": [
    "### 多クラス分類（2-3-4ネットワーク）"
   ]
  },
  {
   "cell_type": "code",
   "execution_count": 91,
   "metadata": {},
   "outputs": [],
   "source": [
    "def init_network():\n",
    "    network = {}\n",
    "    \n",
    "    network[\"W1\"] = np.random.rand(2,3)\n",
    "    network[\"W2\"] = np.random.rand(3,4)\n",
    "    \n",
    "    network[\"b1\"] = np.random.rand(3)\n",
    "    network[\"b2\"] = np.random.rand(4)\n",
    "    return network\n",
    "    \n",
    "def forward(network, x):\n",
    "    W1, W2 = network[\"W1\"], network[\"W2\"]\n",
    "    b1, b2 = network[\"b1\"], network[\"b2\"]\n",
    "    \n",
    "    u1 = np.dot(x,W1) + b1\n",
    "    z1 = relu(u1)\n",
    "    \n",
    "    u2 = np.dot(z1, W2) + b2\n",
    "    \n",
    "    y = softmax(u2)\n",
    "    \n",
    "    return y\n",
    "\n",
    "def softmax(x):\n",
    "    if x.ndim == 2: #バッチ処理の対応\n",
    "        x = x.T\n",
    "        x = x - np.max(x, axis=0)\n",
    "        y = np.exp(x) / np.sum(np.exp(x), axis=0)\n",
    "        return y\n",
    "\n",
    "    x = x - np.max(x) \n",
    "    return np.exp(x) / np.sum(np.exp(x))"
   ]
  },
  {
   "cell_type": "code",
   "execution_count": 92,
   "metadata": {},
   "outputs": [
    {
     "data": {
      "text/plain": [
       "array([0.29150008, 0.39913893, 0.18616225, 0.12319875])"
      ]
     },
     "execution_count": 92,
     "metadata": {},
     "output_type": "execute_result"
    }
   ],
   "source": [
    "network = init_network()\n",
    "x = np.array([1,2])\n",
    "forward(network,x)"
   ]
  },
  {
   "cell_type": "markdown",
   "metadata": {},
   "source": [
    "### 回帰（3-5-4ネットワーク）"
   ]
  },
  {
   "cell_type": "code",
   "execution_count": 98,
   "metadata": {},
   "outputs": [],
   "source": [
    "def init_network():\n",
    "    network = {}\n",
    "    \n",
    "    network[\"W1\"] = np.random.rand(3,5)\n",
    "    network[\"W2\"] = np.random.rand(5,4)\n",
    "    \n",
    "    network[\"b1\"] = np.random.rand(5)\n",
    "    network[\"b2\"] = np.random.rand(4)\n",
    "    \n",
    "    return network\n",
    "\n",
    "\n",
    "def forward(network, x):\n",
    "    W1, W2 = network['W1'], network['W2']\n",
    "    b1, b2 = network['b1'], network['b2']\n",
    "    \n",
    "    \n",
    "    u1 = np.dot(x, W1) + b1\n",
    "   \n",
    "    z1 = relu(u1)\n",
    "    \n",
    "    u2 = np.dot(z1, W2) + b2\n",
    "    \n",
    "    y = u2\n",
    "    \n",
    "    return y"
   ]
  },
  {
   "cell_type": "code",
   "execution_count": 99,
   "metadata": {},
   "outputs": [
    {
     "data": {
      "text/plain": [
       "array([11.244963  ,  8.69185832,  8.41759102,  9.51894002])"
      ]
     },
     "execution_count": 99,
     "metadata": {},
     "output_type": "execute_result"
    }
   ],
   "source": [
    "x = np.array([1,2,3])\n",
    "network = init_network()\n",
    "forward(network,x)"
   ]
  },
  {
   "cell_type": "markdown",
   "metadata": {},
   "source": [
    "### 誤差逆伝搬実装(2-3-2ネットッワーク）"
   ]
  },
  {
   "cell_type": "code",
   "execution_count": 133,
   "metadata": {},
   "outputs": [],
   "source": [
    "#ネットワーク初期化\n",
    "def init_network():\n",
    "    \n",
    "    network = {}\n",
    "    \n",
    "    network[\"W1\"] = np.random.rand(2,3)\n",
    "    network[\"W2\"] = np.random.rand(3,2)\n",
    "    \n",
    "    network[\"b1\"] = np.random.rand(3)\n",
    "    network[\"b2\"] = np.random.rand(2)\n",
    "    \n",
    "    return network\n",
    "\n",
    "#順伝搬\n",
    "def forward(network, x):\n",
    "    W1, W2 = network['W1'], network['W2']\n",
    "    b1, b2 = network['b1'], network['b2']\n",
    "    \n",
    "    u1 = np.dot(x, W1) + b1\n",
    "    z1 = relu(u1)\n",
    "    u2 = np.dot(z1, W2) + b2\n",
    "    y = softmax(u2)\n",
    "    \n",
    "    return y, z1\n",
    "\n",
    "def backward(x, d, z1, y):\n",
    "    \n",
    "    grad = {}\n",
    "    W1, W2 = network['W1'], network['W2']\n",
    "    b1, b2 = network['b1'], network['b2']\n",
    "    #  出力層でのデルタ\n",
    "    delta2 = sigmoid_with_loss(d, y)\n",
    "    #  b2の勾配\n",
    "    grad['b2'] = np.sum(delta2, axis=0)\n",
    "    #  W2の勾配\n",
    "    grad['W2'] = np.dot(z1.T, delta2)\n",
    "    #  中間層でのデルタ\n",
    "    delta1 = np.dot(delta2, W2.T) * d_relu(z1)\n",
    "    # b1の勾配\n",
    "    grad['b1'] = np.sum(delta1, axis=0)\n",
    "    #  W1の勾配\n",
    "    grad['W1'] = np.dot(x.T, delta1)\n",
    "    return grad\n",
    "    \n",
    "def sigmoid_with_loss(d,y):\n",
    "    return y-d\n",
    "\n",
    "def diff_sigmoid(y):\n",
    "    return y*(1-y)\n",
    "\n",
    "def d_relu(x):\n",
    "    return np.where( x > 0, 1, 0)\n",
    "\n",
    "def relu(x):\n",
    "    return np.maximum(0, x)\n",
    "\n",
    "\n",
    "def softmax(x):\n",
    "    if x.ndim == 2:\n",
    "        x = x.T\n",
    "        x = x - np.max(x, axis=0)\n",
    "        y = np.exp(x) / np.sum(np.exp(x), axis=0)\n",
    "        return y.T\n",
    "\n",
    "    x = x - np.max(x) # オーバーフロー対策\n",
    "    return np.exp(x) / np.sum(np.exp(x))"
   ]
  },
  {
   "cell_type": "code",
   "execution_count": 134,
   "metadata": {},
   "outputs": [],
   "source": [
    "x  = np.array([[2.1, 3.0]])\n",
    "d = np.array([[0, 1]])\n",
    "learning_rate = 0.01\n",
    "network =  init_network()\n",
    "y, z1 = forward(network, x)\n",
    "\n",
    "grad = backward(x,d,z1,y)"
   ]
  },
  {
   "cell_type": "code",
   "execution_count": 136,
   "metadata": {},
   "outputs": [
    {
     "data": {
      "text/plain": [
       "{'W1': array([[0.87962369, 0.395049  , 0.72358235],\n",
       "        [0.82272632, 0.93971761, 0.18277854]]),\n",
       " 'W2': array([[0.47364817, 0.23006489],\n",
       "        [0.13527083, 0.8826519 ],\n",
       "        [0.37879458, 0.66129372]]),\n",
       " 'b1': array([0.6219376 , 0.94185702, 0.3556694 ]),\n",
       " 'b2': array([0.22522438, 0.61844914])}"
      ]
     },
     "execution_count": 136,
     "metadata": {},
     "output_type": "execute_result"
    }
   ],
   "source": [
    "for key in ('W1', 'W2', 'b1', 'b2'):\n",
    "    network[key]  -= learning_rate * grad[key]\n",
    "\n",
    "network"
   ]
  },
  {
   "cell_type": "code",
   "execution_count": null,
   "metadata": {},
   "outputs": [],
   "source": []
  },
  {
   "cell_type": "markdown",
   "metadata": {},
   "source": [
    "### 確率的勾配降下法\n",
    "\n",
    "ランダムにサンプルを選択する機能とそのサンプルでの誤差勾配を計算する機能が必要"
   ]
  },
  {
   "cell_type": "code",
   "execution_count": 147,
   "metadata": {},
   "outputs": [],
   "source": [
    "def init_network():\n",
    "    network = {}\n",
    "    nodesNum = 10\n",
    "    \n",
    "    network[\"W1\"] = np.random.rand(2, nodesNum)\n",
    "    network[\"W2\"] = np.random.rand(nodesNum)\n",
    "    \n",
    "    network['b1'] = np.random.randn(nodesNum)\n",
    "    network['b2'] = np.random.randn()\n",
    "    \n",
    "    return network\n",
    "\n",
    "def forward(network, x):\n",
    "    W1, W2 = network['W1'], network['W2']\n",
    "    b1, b2 = network['b1'], network['b2']\n",
    "    u1 = np.dot(x, W1) + b1\n",
    "    z1 = sigmoid(u1)\n",
    "    \n",
    "    u2 = np.dot(z1, W2) + b2\n",
    "    y = u2\n",
    "    \n",
    "    return z1, y\n",
    "\n",
    "\n",
    "def backward(x,d,z1,y):\n",
    "    grad = {}\n",
    "    W1, W2 = network['W1'], network['W2']\n",
    "    b1, b2 = network['b1'], network['b2']\n",
    "    \n",
    "    delta2 = d_mean_squared_error(d, y)\n",
    "    # b2の勾配\n",
    "    grad['b2'] = np.sum(delta2, axis=0)\n",
    "    # W2の勾配\n",
    "    grad['W2'] = np.dot(z1.T, delta2)\n",
    "    # 中間層でのデルタ\n",
    "    #delta1 = np.dot(delta2, W2.T) * functions.d_relu(z1)\n",
    "\n",
    "    ## 試してみよう\n",
    "    delta1 = np.dot(delta2, W2.T) * d_sigmoid(z1)\n",
    "\n",
    "    delta1 = delta1[np.newaxis, :]\n",
    "    # b1の勾配\n",
    "    grad['b1'] = np.sum(delta1, axis=0)\n",
    "    x = x[np.newaxis, :]\n",
    "    # W1の勾配\n",
    "    grad['W1'] = np.dot(x.T, delta1)\n",
    "    \n",
    "    return grad\n",
    "    \n",
    "def d_mean_squared_error(d, y):\n",
    "    if type(d) == np.ndarray:\n",
    "        batch_size = d.shape[0]\n",
    "        dx = (y - d)/batch_size\n",
    "    else:\n",
    "        dx = y - d\n",
    "    return dx\n",
    "    \n",
    "def d_sigmoid(x):\n",
    "    dx = (1.0 - sigmoid(x)) * sigmoid(x)\n",
    "    return dx\n",
    "\n",
    "def mean_squared_error(d, y):\n",
    "    return np.mean(np.square(d - y)) / 2"
   ]
  },
  {
   "cell_type": "code",
   "execution_count": 143,
   "metadata": {},
   "outputs": [],
   "source": [
    "#サンプルデータ\n",
    "def f(x):\n",
    "    y = 3 * x[0] + 2 * x[1]\n",
    "    return y\n",
    "data_sets_size = 100000\n",
    "data_sets = [0 for i in range(data_sets_size)]\n",
    "for i in range(data_sets_size):\n",
    "    data_sets[i] = {}\n",
    "    # ランダムな値を設定\n",
    "    data_sets[i]['x'] = np.random.rand(2)\n",
    "    \n",
    "    # 目標出力を設定\n",
    "    data_sets[i]['d'] = f(data_sets[i]['x'])"
   ]
  },
  {
   "cell_type": "code",
   "execution_count": 146,
   "metadata": {},
   "outputs": [],
   "source": [
    "losses = []\n",
    "# 学習率\n",
    "learning_rate = 0.07\n",
    "\n",
    "# 抽出数\n",
    "epoch = 1000\n",
    "\n",
    "# パラメータの初期化\n",
    "network = init_network()\n",
    "\n",
    "# データのランダム抽出(epochの回数だけパラメータを更新するのでエポック数分のデータをランダムに選択)\n",
    "random_datasets = np.random.choice(data_sets, epoch)\n"
   ]
  },
  {
   "cell_type": "code",
   "execution_count": 148,
   "metadata": {},
   "outputs": [],
   "source": [
    "#学習\n",
    "\n",
    "\n",
    "for dataset in random_datasets:\n",
    "    x, d = dataset['x'], dataset['d']\n",
    "    z1, y = forward(network, x)\n",
    "    grad = backward(x, d, z1, y)\n",
    "    # パラメータに勾配適用\n",
    "    for key in ('W1', 'W2', 'b1', 'b2'):\n",
    "        network[key]  -= learning_rate * grad[key]\n",
    "\n",
    "    # 誤差\n",
    "    loss = mean_squared_error(d, y)\n",
    "    losses.append(loss)"
   ]
  },
  {
   "cell_type": "code",
   "execution_count": 151,
   "metadata": {},
   "outputs": [
    {
     "data": {
      "image/png": "[encoded data removed]",
      "text/plain": [
       "<Figure size 1152x360 with 1 Axes>"
      ]
     },
     "metadata": {
      "needs_background": "light"
     },
     "output_type": "display_data"
    }
   ],
   "source": [
    "import matplotlib.pyplot as plt\n",
    "lists = range(epoch)\n",
    "\n",
    "plt.figure(figsize=(16,5))\n",
    "plt.plot(lists, losses, '-')\n",
    "# グラフの表示\n",
    "plt.show()"
   ]
  },
  {
   "cell_type": "markdown",
   "metadata": {},
   "source": [
    "学習ごとにコストが小さくなっていることがわかる。"
   ]
  },
  {
   "cell_type": "code",
   "execution_count": null,
   "metadata": {},
   "outputs": [],
   "source": []
  }
 ],
 "metadata": {
  "kernelspec": {
   "display_name": "Environment (conda_anaconda3)",
   "language": "python",
   "name": "conda_anaconda3"
  },
  "language_info": {
   "codemirror_mode": {
    "name": "ipython",
    "version": 3
   },
   "file_extension": ".py",
   "mimetype": "text/x-python",
   "name": "python",
   "nbconvert_exporter": "python",
   "pygments_lexer": "ipython3",
   "version": "3.7.6"
  }
 },
 "nbformat": 4,
 "nbformat_minor": 4
}
